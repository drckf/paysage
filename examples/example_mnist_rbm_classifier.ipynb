{
 "cells": [
  {
   "cell_type": "code",
   "execution_count": null,
   "metadata": {
    "collapsed": true
   },
   "outputs": [],
   "source": [
    "import urllib.request, os\n",
    "filedir = os.path.dirname(os.path.abspath(\"./mnist\"))\n",
    "filepath = os.path.join(filedir, \"mnist.pkl.gz\")\n",
    "if not os.path.exists(filepath):\n",
    "    urllib.request.urlretrieve(\"http://deeplearning.net/data/mnist/mnist.pkl.gz\",\n",
    "                               filepath)\n",
    "    print(\"mnist data downloaded.\")\n",
    "else:\n",
    "    print(\"mnist data already downloaded.\")"
   ]
  },
  {
   "cell_type": "code",
   "execution_count": null,
   "metadata": {
    "collapsed": true,
    "scrolled": true
   },
   "outputs": [],
   "source": [
    "import sys\n",
    "sys.path.append('..')\n",
    "\n",
    "from __future__ import absolute_import\n",
    "\n",
    "from importlib import reload\n",
    "from paysage import batch\n",
    "from paysage import layers\n",
    "from paysage.models import model\n",
    "from paysage import fit\n",
    "from paysage import optimizers\n",
    "from paysage import backends as be\n",
    "from paysage import schedules\n",
    "\n",
    "be.set_seed(137) # for determinism\n",
    "\n",
    "import example_util as util\n",
    "\n",
    "paysage_path=None\n",
    "num_epochs=10\n",
    "show_plot=False\n",
    "\n",
    "num_hidden_units = 500\n",
    "batch_size = 100\n",
    "learning_rate = schedules.power_law_decay(initial=1e-2, coefficient=0.1)\n",
    "mc_steps = 1\n",
    "\n",
    "(_, _, shuffled_filepath) = \\\n",
    "        util.default_paths(paysage_path)\n",
    "\n",
    "# set up the reader to get minibatches\n",
    "data = batch.NumpyBatch('../mnist/mnist.pkl.gz',\n",
    "                        batch_size, True, limit=1e-2,\n",
    "                        # input_transform=batch.binarize_color,\n",
    "                        # numpy batch inputs are already binarized\n",
    "                        target_transform=lambda x: be.onehot(x, 10))\n",
    "\n",
    "try:\n",
    "    import torch\n",
    "    torch.cuda.set_device(0)\n",
    "except ImportError:\n",
    "    print('No CUDA support.')\n",
    "    \n",
    "# set up the model and initialize the parameters\n",
    "vis_layer = layers.BernoulliLayer(data.ncols)\n",
    "hid_layer = layers.BernoulliLayer(num_hidden_units)\n",
    "clf_layer = layers.ClassificationLayer(10)\n",
    "\n",
    "rbm = model.Model([vis_layer,\n",
    "                   hid_layer,\n",
    "                   clf_layer])\n",
    "rbm.initialize(data, 'glorot_normal')\n",
    "\n",
    "metrics = ['ReconstructionError', 'Accuracy', 'CrossEntropy']\n",
    "perf = fit.ProgressMonitor(data, metrics=metrics)\n",
    "\n",
    "# set up the optimizer and the fit method\n",
    "opt = optimizers.ADAM(stepsize=learning_rate)\n",
    "sampler = fit.DrivenSequentialMC.from_batch(rbm, data)\n",
    "\n",
    "# use a batch with targets\n",
    "sgd = fit.SGD(rbm, data, opt, 400,\n",
    "              method=fit.pcd,\n",
    "              sampler=sampler,\n",
    "              mcsteps=mc_steps,\n",
    "              monitor=perf)\n",
    "\n",
    "# fit the model\n",
    "sgd.train()"
   ]
  },
  {
   "cell_type": "markdown",
   "metadata": {},
   "source": [
    "### priorities:\n",
    "* cd - OK, pcd - OK (both: Accuracy 0.92 at 1000 epochs), tap - needs work in layer\n",
    "* sequential - OK, driven_sequential - OK\n",
    "* gradient - not working, adam - OK\n",
    "* gaussian inputs - OK - too slow with lr=1e-1\n",
    "* numpy batch feed - DONE\n",
    "\n",
    "### TODO:\n",
    "* make DBM work\n",
    "* regression - gaussian/exponential/poisson outputs \n",
    "* try to use autograd\n",
    "* multimodality of inputs"
   ]
  },
  {
   "cell_type": "code",
   "execution_count": 22,
   "metadata": {},
   "outputs": [
    {
     "name": "stdout",
     "output_type": "stream",
     "text": [
      "Final performance metrics:\n",
      "-ReconstructionError: 5.772199\n",
      "-Accuracy: 0.910000\n",
      "-CrossEntropy: 1.551151\n"
     ]
    }
   ],
   "source": [
    "# evaluate the model    \n",
    "util.show_metrics(rbm, perf)\n",
    "valid = data.get('validate')"
   ]
  },
  {
   "cell_type": "code",
   "execution_count": 23,
   "metadata": {
    "collapsed": true
   },
   "outputs": [],
   "source": [
    "%matplotlib inline"
   ]
  },
  {
   "cell_type": "code",
   "execution_count": 39,
   "metadata": {},
   "outputs": [
    {
     "name": "stdout",
     "output_type": "stream",
     "text": [
      "\n",
      "Plot a random sample of reconstructions\n",
      "Class predictions: [1 8 2 0 8 9 1 3 1 3]\n"
     ]
    },
    {
     "name": "stderr",
     "output_type": "stream",
     "text": [
      "/opt/conda/envs/pytorch-py35/lib/python3.5/site-packages/matplotlib/font_manager.py:1297: UserWarning: findfont: Font family ['sans-serif'] not found. Falling back to DejaVu Sans\n",
      "  (prop.get_family(), self.defaultFamily[fontext]))\n"
     ]
    },
    {
     "data": {
      "image/png": "[encoded data removed]",
      "text/plain": [
       "<matplotlib.figure.Figure at 0x7f407075ce10>"
      ]
     },
     "metadata": {},
     "output_type": "display_data"
    }
   ],
   "source": [
    "util.show_reconstructions(rbm, valid, fit, show_plot=True, n_recon=10, vertical=False)"
   ]
  },
  {
   "cell_type": "code",
   "execution_count": null,
   "metadata": {
    "collapsed": true,
    "scrolled": false
   },
   "outputs": [],
   "source": [
    "util.show_fantasy_particles(rbm, valid, fit, show_plot=True, n_fantasy=25)\n",
    "util.show_weights(rbm, show_plot=True, n_weights=25)"
   ]
  }
 ],
 "metadata": {
  "kernelspec": {
   "display_name": "Python 3",
   "language": "python",
   "name": "python3"
  },
  "language_info": {
   "codemirror_mode": {
    "name": "ipython",
    "version": 3
   },
   "file_extension": ".py",
   "mimetype": "text/x-python",
   "name": "python",
   "nbconvert_exporter": "python",
   "pygments_lexer": "ipython3",
   "version": "3.6.1"
  }
 },
 "nbformat": 4,
 "nbformat_minor": 1
}
